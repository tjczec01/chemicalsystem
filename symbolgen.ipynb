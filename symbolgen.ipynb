{
 "cells": [
  {
   "cell_type": "markdown",
   "metadata": {},
   "source": [
    "# Symbol Generator\n",
    "\n",
    "*symbolgen.py* is a Gui based chemical reaction system generator that generates the right hand side (**RHS**) of a chemical system to be used with the [solve_ivp](https://docs.scipy.org/doc/scipy/reference/generated/scipy.integrate.solve_ivp.html) and [odeint](https://docs.scipy.org/doc/scipy/reference/generated/scipy.integrate.odeint.html#scipy.integrate.odeint)  method, the **jacobian**, and the overall equations for each reations and each individual chemical species. It will generate **Latex** formatted equations for the individual chemical reactions, overall mass balances for each species, and both symbolic and numerical text files for the **RHS** and **jacobian**.\n"
   ]
  },
  {
   "cell_type": "markdown",
   "metadata": {},
   "source": [
    "# 1. Chemical reactions\n",
    "\n",
    "This program will generate the **Latex** forms of each individual reaction and then save them as both a **pdf** and **svg**. The string forms of the equations will be saved in a **text** (txt) file. An example of some inital reactions are given below."
   ]
  },
  {
   "cell_type": "markdown",
   "metadata": {},
   "source": [
    "## <center> <b>List of Reactions</b>\n",
    "    \n",
    "$EDC \\longrightarrow R_{1} + R_{2}$ \n",
    "\n",
    "$EDC + R_{1} \\longrightarrow HCl + R_{3}$ \n",
    "\n",
    "$EDC + R_{2} \\longrightarrow EC + R_{3}$ \n",
    "\n",
    "$EDC + R_{4} \\longrightarrow C_{11}$ \n",
    "\n",
    "$EDC + R_{5} \\longrightarrow R_{3} + VCM$ \n",
    "\n",
    "$EDC + R_{6} \\longrightarrow C_{112} + R_{3}$ \n",
    "\n",
    "$R_{1} + R_{2} \\longrightarrow HCl + VCM$ \n",
    "\n",
    "$R_{1} + R_{3} \\longrightarrow Di + HCl$ \n",
    "\n",
    "$EC + R_{1} \\longrightarrow HCl + R_{2}$ \n",
    "\n",
    "$C_{11} + R_{1} \\longrightarrow HCl + R_{4}$ \n",
    "\n",
    "$C_{112} + R_{1} \\longrightarrow HCl + R_{6}$ \n",
    "\n",
    "$R_{1} + VCM \\longrightarrow R_{4}$ \n",
    "\n",
    "$R_{1} + VCM \\longrightarrow HCl + R_{5}$ \n",
    "\n",
    "$R_{2} + VCM \\longrightarrow EC + R_{5}$ \n",
    "\n",
    "$R_{4} + VCM \\longrightarrow C_{4}H_{6}Cl_{2} + R_{1}$ \n",
    "\n",
    "$R_{5} + VCM \\longrightarrow CP + R_{1}$ \n",
    "\n",
    "$R_{3} \\rightleftharpoons R_{1} + VCM$ \n",
    "\n",
    "$R_{5} \\rightleftharpoons C_{2}H_{2} + R_{1}$ \n",
    "\n",
    "$R_{6} \\rightleftharpoons Di + R_{1}$ \n",
    "\n",
    "$2*C_{2}H_{2} + R_{5} \\longrightarrow C_{6}H_{6} + R_{1}$ \n",
    "\n",
    "$C_{2}H_{2} + 2*R_{1} \\longrightarrow 2*Coke + 2*HCl$ "
   ]
  },
  {
   "cell_type": "markdown",
   "metadata": {
    "tags": [
     "remove_input"
    ]
   },
   "source": [
    "# 2. Overall reactions for each chemical species\n",
    "\n",
    "This program will generate the **Latex** forms of each individual reaction and then save them as both a **pdf** and **svg**. The string forms of the equations will be saved in a **text** (txt) file. An example of some inital reactions are given below."
   ]
  },
  {
   "cell_type": "markdown",
   "metadata": {},
   "source": [
    "\n",
    "$\\mathbf{\\dfrac{dC_{EDC}}{dZ}} = - C_{EDC} C_{R1} k_{2} e^{- \\frac{Ea_{2}}{R T}} - C_{EDC} C_{R2} k_{3} e^{- \\frac{Ea_{3}}{R T}} - C_{EDC} C_{R4} k_{4} e^{- \\frac{Ea_{4}}{R T}} - C_{EDC} C_{R5} k_{5} e^{- \\frac{Ea_{5}}{R T}} - C_{EDC} C_{R6} k_{6} e^{- \\frac{Ea_{6}}{R T}} - C_{EDC} k_{1} e^{- \\frac{Ea_{1}}{R T}}$\n",
    "\n",
    "$\\mathbf{\\dfrac{dC_{EC}}{dZ}} = - C_{EC} C_{R1} k_{9} e^{- \\frac{Ea_{9}}{R T}} + C_{EDC} C_{R2} k_{3} e^{- \\frac{Ea_{3}}{R T}} + C_{R2} C_{VCM} k_{14} e^{- \\frac{Ea_{14}}{R T}}$\n",
    "\n",
    "$\\mathbf{\\dfrac{dC_{HCl}}{dZ}} = C_{C11} C_{R1} k_{10} e^{- \\frac{Ea_{10}}{R T}} + C_{C112} C_{R1} k_{11} e^{- \\frac{Ea_{11}}{R T}} + 2 C_{C2H2} C_{R1}^{2} k_{21} e^{- \\frac{Ea_{21}}{R T}} + C_{EC} C_{R1} k_{9} e^{- \\frac{Ea_{9}}{R T}} + C_{EDC} C_{R1} k_{2} e^{- \\frac{Ea_{2}}{R T}} + C_{R1} C_{R2} k_{7} e^{- \\frac{Ea_{7}}{R T}} + C_{R1} C_{R3} k_{8} e^{- \\frac{Ea_{8}}{R T}} + C_{R1} C_{VCM} k_{13} e^{- \\frac{Ea_{13}}{R T}}$\n",
    "\n",
    "$\\mathbf{\\dfrac{dC_{Coke}}{dZ}} = 2 C_{C2H2} C_{R1}^{2} k_{21} e^{- \\frac{Ea_{21}}{R T}}$\n",
    "\n",
    "$\\mathbf{\\dfrac{dC_{CP}}{dZ}} = C_{R5} C_{VCM} k_{16} e^{- \\frac{Ea_{16}}{R T}}$\n",
    "\n",
    "$\\mathbf{\\dfrac{dC_{Di}}{dZ}} = - C_{Di} C_{R1} k_{19} e^{- \\frac{Ea_{19}}{R T}} + C_{R1} C_{R3} k_{8} e^{- \\frac{Ea_{8}}{R T}} + C_{R6} k_{19} e^{- \\frac{Ea_{19}}{R T}}$\n",
    "\n",
    "$\\mathbf{\\dfrac{dC_{C4H6Cl2}}{dZ}} = C_{R4} C_{VCM} k_{15} e^{- \\frac{Ea_{15}}{R T}}$\n",
    "\n",
    "$\\mathbf{\\dfrac{dC_{C6H6}}{dZ}} = 2 C_{C2H2}^{2} C_{R5} k_{20} e^{- \\frac{Ea_{20}}{R T}}$\n",
    "\n",
    "$\\mathbf{\\dfrac{dC_{C2H2}}{dZ}} = - 2 C_{C2H2}^{2} C_{R5} k_{20} e^{- \\frac{Ea_{20}}{R T}} - 2 C_{C2H2} C_{R1}^{2} k_{21} e^{- \\frac{Ea_{21}}{R T}} - C_{C2H2} C_{R1} k_{18} e^{- \\frac{Ea_{18}}{R T}} - C_{R5} k_{18} e^{- \\frac{Ea_{18}}{R T}}$\n",
    "\n",
    "$\\mathbf{\\dfrac{dC_{C11}}{dZ}} = - C_{C11} C_{R1} k_{10} e^{- \\frac{Ea_{10}}{R T}} + C_{EDC} C_{R4} k_{4} e^{- \\frac{Ea_{4}}{R T}}$\n",
    "\n",
    "$\\mathbf{\\dfrac{dC_{C112}}{dZ}} = - C_{C112} C_{R1} k_{11} e^{- \\frac{Ea_{11}}{R T}} + C_{EDC} C_{R5} k_{5} e^{- \\frac{Ea_{5}}{R T}}$\n",
    "$\\mathbf{\\dfrac{dC_{R1}}{dZ}} = - C_{C11} C_{R1} k_{10} e^{- \\frac{Ea_{10}}{R T}} - C_{C112} C_{R1} k_{11} e^{- \\frac{Ea_{11}}{R T}} + 2 C_{C2H2}^{2} C_{R5} k_{20} e^{- \\frac{Ea_{20}}{R T}} - 2 C_{C2H2} C_{R1}^{2} k_{21} e^{- \\frac{Ea_{21}}{R T}} - C_{C2H2} C_{R1} k_{18} e^{- \\frac{Ea_{18}}{R T}} - C_{Di} C_{R1} k_{19} e^{- \\frac{Ea_{19}}{R T}} - C_{EC} C_{R1} k_{9} e^{- \\frac{Ea_{9}}{R T}} - C_{EDC} C_{R1} k_{2} e^{- \\frac{Ea_{2}}{R T}} + C_{EDC} k_{1} e^{- \\frac{Ea_{1}}{R T}} - C_{R1} C_{R2} k_{7} e^{- \\frac{Ea_{7}}{R T}} - C_{R1} C_{R3} k_{8} e^{- \\frac{Ea_{8}}{R T}} - C_{R1} C_{VCM} k_{12} e^{- \\frac{Ea_{12}}{R T}} - C_{R1} C_{VCM} k_{13} e^{- \\frac{Ea_{13}}{R T}} - C_{R1} C_{VCM} k_{17} e^{- \\frac{Ea_{17}}{R T}} + C_{R3} k_{17} e^{- \\frac{Ea_{17}}{R T}} + C_{R4} C_{VCM} k_{15} e^{- \\frac{Ea_{15}}{R T}} + C_{R5} C_{VCM} k_{16} e^{- \\frac{Ea_{16}}{R T}} + C_{R5} k_{18} e^{- \\frac{Ea_{18}}{R T}} + C_{R6} k_{19} e^{- \\frac{Ea_{19}}{R T}}$\n",
    "\n",
    "$\\mathbf{\\dfrac{dC_{R2}}{dZ}} = C_{EC} C_{R1} k_{9} e^{- \\frac{Ea_{9}}{R T}} - C_{EDC} C_{R2} k_{3} e^{- \\frac{Ea_{3}}{R T}} + C_{EDC} k_{1} e^{- \\frac{Ea_{1}}{R T}} - C_{R1} C_{R2} k_{7} e^{- \\frac{Ea_{7}}{R T}} - C_{R2} C_{VCM} k_{14} e^{- \\frac{Ea_{14}}{R T}}$\n",
    "\n",
    "$\\mathbf{\\dfrac{dC_{R3}}{dZ}} = C_{EDC} C_{R1} k_{2} e^{- \\frac{Ea_{2}}{R T}} + C_{EDC} C_{R2} k_{3} e^{- \\frac{Ea_{3}}{R T}} + C_{EDC} C_{R4} k_{4} e^{- \\frac{Ea_{4}}{R T}} + C_{EDC} C_{R5} k_{5} e^{- \\frac{Ea_{5}}{R T}} + C_{EDC} C_{R6} k_{6} e^{- \\frac{Ea_{6}}{R T}} - C_{R1} C_{R3} k_{8} e^{- \\frac{Ea_{8}}{R T}} + C_{R1} C_{VCM} k_{17} e^{- \\frac{Ea_{17}}{R T}} - C_{R3} k_{17} e^{- \\frac{Ea_{17}}{R T}}$\n",
    "\n",
    "$\\mathbf{\\dfrac{dC_{R4}}{dZ}} = C_{C11} C_{R1} k_{10} e^{- \\frac{Ea_{10}}{R T}} - C_{EDC} C_{R4} k_{4} e^{- \\frac{Ea_{4}}{R T}} + C_{R1} C_{VCM} k_{12} e^{- \\frac{Ea_{12}}{R T}} - C_{R4} C_{VCM} k_{15} e^{- \\frac{Ea_{15}}{R T}}$\n",
    "\n",
    "$\\mathbf{\\dfrac{dC_{R5}}{dZ}} = 2 C_{C2H2}^{2} C_{R5} k_{20} e^{- \\frac{Ea_{20}}{R T}} + C_{C2H2} C_{R1} k_{18} e^{- \\frac{Ea_{18}}{R T}} + C_{EDC} C_{R5} k_{5} e^{- \\frac{Ea_{5}}{R T}} - C_{R1} C_{VCM} k_{13} e^{- \\frac{Ea_{13}}{R T}} - C_{R2} C_{VCM} k_{14} e^{- \\frac{Ea_{14}}{R T}} + C_{R5} C_{VCM} k_{16} e^{- \\frac{Ea_{16}}{R T}} - C_{R5} k_{18} e^{- \\frac{Ea_{18}}{R T}}$\n",
    "$\\mathbf{\\dfrac{dC_{R6}}{dZ}} = C_{C112} C_{R1} k_{11} e^{- \\frac{Ea_{11}}{R T}} + C_{Di} C_{R1} k_{19} e^{- \\frac{Ea_{19}}{R T}} - C_{EDC} C_{R6} k_{6} e^{- \\frac{Ea_{6}}{R T}} - C_{R6} k_{19} e^{- \\frac{Ea_{19}}{R T}}$\n",
    "\n",
    "$\\mathbf{\\dfrac{dC_{VCM}}{dZ}} = C_{EDC} C_{R5} k_{5} e^{- \\frac{Ea_{5}}{R T}} + C_{R1} C_{R2} k_{7} e^{- \\frac{Ea_{7}}{R T}} - C_{R1} C_{VCM} k_{12} e^{- \\frac{Ea_{12}}{R T}} - C_{R1} C_{VCM} k_{13} e^{- \\frac{Ea_{13}}{R T}} - C_{R1} C_{VCM} k_{17} e^{- \\frac{Ea_{17}}{R T}} - C_{R2} C_{VCM} k_{14} e^{- \\frac{Ea_{14}}{R T}} + C_{R3} k_{17} e^{- \\frac{Ea_{17}}{R T}} - C_{R4} C_{VCM} k_{15} e^{- \\frac{Ea_{15}}{R T}} - C_{R5} C_{VCM} k_{16} e^{- \\frac{Ea_{16}}{R T}}$\n"
   ]
  },
  {
   "cell_type": "markdown",
   "metadata": {},
   "source": [
    "# 3. Right Hand Side \n",
    "\n",
    "\n",
    "The right hand side (**RHS**) of the system of equations will be generated both symbolically and with initial values substituted into their respective places. This is the required system for scipy's [solve_ivp](https://docs.scipy.org/doc/scipy/reference/generated/scipy.integrate.solve_ivp.html) and [odeint](https://docs.scipy.org/doc/scipy/reference/generated/scipy.integrate.odeint.html#scipy.integrate.odeint) method. This function requires a callable in the form of "
   ]
  },
  {
   "cell_type": "markdown",
   "metadata": {},
   "source": [
    "```python\n",
    "\n",
    "def RHS(t, y, *args):\n",
    "    \n",
    "    K_0, K_1, K_2, K_3, K_4, K_5, K_6, K_7, K_8, K_9, K_10, K_11, K_12, K_13, K_14, K_15, K_16, K_17, K_18, K_19, K_20, Ea_0, Ea_1, Ea_2, Ea_3, Ea_4, Ea_5, Ea_6, Ea_7, Ea_8, Ea_9, Ea_10, Ea_11, Ea_12, Ea_13, Ea_14, Ea_15, Ea_16, Ea_17, Ea_18, Ea_19, Ea_20 = args\n",
    "    \n",
    "    C_EDC, C_EC, C_HCl, C_Coke, C_CP, C_Di, C_C4H6Cl2, C_C6H6, C_C2H2, C_C11, C_C112, C_R1, C_R2, C_R3, C_R4, C_R5, C_R6, C_VCM, T = y\n",
    "    \n",
    "    EQ_EDC = -C_EDC*C_R1*k_2*math.exp(-Ea_2/(R*T)) - C_EDC*C_R2*k_3*math.exp(-Ea_3/(R*T)) - C_EDC*C_R4*k_4*math.exp(-Ea_4/(R*T)) - C_EDC*C_R5*k_5*math.exp(-Ea_5/(R*T)) - C_EDC*C_R6*k_6*math.exp(-Ea_6/(R*T)) - C_EDC*k_1*math.exp(-Ea_1/(R*T))\n",
    "    \n",
    "    EQ_EC = -C_EC*C_R1*k_9*math.exp(-Ea_9/(R*T)) + C_EDC*C_R2*k_3*math.exp(-Ea_3/(R*T)) + C_R2*C_VCM*k_14*math.exp(-Ea_14/(R*T))\n",
    "    \n",
    "    EQ_HCl = C_C11*C_R1*k_10*math.exp(-Ea_10/(R*T)) + C_C112*C_R1*k_11*math.exp(-Ea_11/(R*T)) + 2*C_C2H2*C_R1**2*k_21*math.exp(-Ea_21/(R*T)) + C_EC*C_R1*k_9*math.exp(-Ea_9/(R*T)) + C_EDC*C_R1*k_2*math.exp(-Ea_2/(R*T)) + C_R1*C_R2*k_7*math.exp(-Ea_7/(R*T)) + C_R1*C_R3*k_8*math.exp(-Ea_8/(R*T)) + C_R1*C_VCM*k_13*math.exp(-Ea_13/(R*T))\n",
    "    \n",
    "    EQ_Coke = 2*C_C2H2*C_R1**2*k_21*math.exp(-Ea_21/(R*T))\n",
    "    \n",
    "    EQ_CP = C_R5*C_VCM*k_16*math.exp(-Ea_16/(R*T))\n",
    "    \n",
    "    EQ_Di = -C_Di*C_R1*k_19*math.exp(-Ea_19/(R*T)) + C_R1*C_R3*k_8*math.exp(-Ea_8/(R*T)) + C_R6*k_19*math.exp(-Ea_19/(R*T))\n",
    "    \n",
    "    EQ_C4H6Cl2 = C_R4*C_VCM*k_15*math.exp(-Ea_15/(R*T))\n",
    "    \n",
    "    EQ_C6H6 = 2*C_C2H2**2*C_R5*k_20*math.exp(-Ea_20/(R*T))\n",
    "    \n",
    "    EQ_C2H2 = -2*C_C2H2**2*C_R5*k_20*math.exp(-Ea_20/(R*T)) - 2*C_C2H2*C_R1**2*k_21*math.exp(-Ea_21/(R*T)) - C_C2H2*C_R1*k_18*math.exp(-Ea_18/(R*T)) - C_R5*k_18*math.exp(-Ea_18/(R*T))\n",
    "    \n",
    "    EQ_C11 = -C_C11*C_R1*k_10*math.exp(-Ea_10/(R*T)) + C_EDC*C_R4*k_4*math.exp(-Ea_4/(R*T))\n",
    "    \n",
    "    EQ_C112 = -C_C112*C_R1*k_11*math.exp(-Ea_11/(R*T)) + C_EDC*C_R5*k_5*math.exp(-Ea_5/(R*T))\n",
    "    \n",
    "    EQ_R1 = -C_C11*C_R1*k_10*math.exp(-Ea_10/(R*T)) - C_C112*C_R1*k_11*math.exp(-Ea_11/(R*T)) + 2*C_C2H2**2*C_R5*k_20*math.exp(-Ea_20/(R*T)) - 2*C_C2H2*C_R1**2*k_21*math.exp(-Ea_21/(R*T)) - C_C2H2*C_R1*k_18*math.exp(-Ea_18/(R*T)) - C_Di*C_R1*k_19*math.exp(-Ea_19/(R*T)) - C_EC*C_R1*k_9*math.exp(-Ea_9/(R*T)) - C_EDC*C_R1*k_2*math.exp(-Ea_2/(R*T)) + C_EDC*k_1*math.exp(-Ea_1/(R*T)) - C_R1*C_R2*k_7*math.exp(-Ea_7/(R*T)) - C_R1*C_R3*k_8*math.exp(-Ea_8/(R*T)) - C_R1*C_VCM*k_12*math.exp(-Ea_12/(R*T)) - C_R1*C_VCM*k_13*math.exp(-Ea_13/(R*T)) - C_R1*C_VCM*k_17*math.exp(-Ea_17/(R*T)) + C_R3*k_17*math.exp(-Ea_17/(R*T)) + C_R4*C_VCM*k_15*math.exp(-Ea_15/(R*T)) + C_R5*C_VCM*k_16*math.exp(-Ea_16/(R*T)) + C_R5*k_18*math.exp(-Ea_18/(R*T)) + C_R6*k_19*math.exp(-Ea_19/(R*T))\n",
    "    \n",
    "    EQ_R2 = C_EC*C_R1*k_9*math.exp(-Ea_9/(R*T)) - C_EDC*C_R2*k_3*math.exp(-Ea_3/(R*T)) + C_EDC*k_1*math.exp(-Ea_1/(R*T)) - C_R1*C_R2*k_7*math.exp(-Ea_7/(R*T)) - C_R2*C_VCM*k_14*math.exp(-Ea_14/(R*T))\n",
    "    \n",
    "    EQ_R3 = C_EDC*C_R1*k_2*math.exp(-Ea_2/(R*T)) + C_EDC*C_R2*k_3*math.exp(-Ea_3/(R*T)) + C_EDC*C_R4*k_4*math.exp(-Ea_4/(R*T)) + C_EDC*C_R5*k_5*math.exp(-Ea_5/(R*T)) + C_EDC*C_R6*k_6*math.exp(-Ea_6/(R*T)) - C_R1*C_R3*k_8*math.exp(-Ea_8/(R*T)) + C_R1*C_VCM*k_17*math.exp(-Ea_17/(R*T)) - C_R3*k_17*math.exp(-Ea_17/(R*T))\n",
    "    \n",
    "    EQ_R4 = C_C11*C_R1*k_10*math.exp(-Ea_10/(R*T)) - C_EDC*C_R4*k_4*math.exp(-Ea_4/(R*T)) + C_R1*C_VCM*k_12*math.exp(-Ea_12/(R*T)) - C_R4*C_VCM*k_15*math.exp(-Ea_15/(R*T))\n",
    "    \n",
    "    EQ_R5 = 2*C_C2H2**2*C_R5*k_20*math.exp(-Ea_20/(R*T)) + C_C2H2*C_R1*k_18*math.exp(-Ea_18/(R*T)) + C_EDC*C_R5*k_5*math.exp(-Ea_5/(R*T)) - C_R1*C_VCM*k_13*math.exp(-Ea_13/(R*T)) - C_R2*C_VCM*k_14*math.exp(-Ea_14/(R*T)) + C_R5*C_VCM*k_16*math.exp(-Ea_16/(R*T)) - C_R5*k_18*math.exp(-Ea_18/(R*T))\n",
    "    \n",
    "    EQ_R6 = C_C112*C_R1*k_11*math.exp(-Ea_11/(R*T)) + C_Di*C_R1*k_19*math.exp(-Ea_19/(R*T)) - C_EDC*C_R6*k_6*math.exp(-Ea_6/(R*T)) - C_R6*k_19*math.exp(-Ea_19/(R*T))\n",
    "    \n",
    "    EQ_VCM = C_EDC*C_R5*k_5*math.exp(-Ea_5/(R*T)) + C_R1*C_R2*k_7*math.exp(-Ea_7/(R*T)) - C_R1*C_VCM*k_12*math.exp(-Ea_12/(R*T)) - C_R1*C_VCM*k_13*math.exp(-Ea_13/(R*T)) - C_R1*C_VCM*k_17*math.exp(-Ea_17/(R*T)) - C_R2*C_VCM*k_14*math.exp(-Ea_14/(R*T)) + C_R3*k_17*math.exp(-Ea_17/(R*T)) - C_R4*C_VCM*k_15*math.exp(-Ea_15/(R*T)) - C_R5*C_VCM*k_16*math.exp(-Ea_16/(R*T))\n",
    "    \n",
    "    return [EQ_EDC, EQ_EC, EQ_HCl, EQ_Coke, EQ_CP, EQ_Di, EQ_C4H6Cl2, EQ_C6H6, EQ_C2H2, EQ_C11, EQ_C112, EQ_R1, EQ_R2, EQ_R3, EQ_R4, EQ_R5, EQ_R6, EQ_VCM]\n",
    "            \n",
    "```"
   ]
  },
  {
   "cell_type": "markdown",
   "metadata": {},
   "source": [
    "# 4. Jacobian \n",
    "\n",
    "The **Jacobian matrix** is symbolically generated in order to improve the accuracy and speed of the solvers used in the aforementioned method."
   ]
  },
  {
   "cell_type": "markdown",
   "metadata": {},
   "source": [
    "\n",
    "\n",
    "$\\mathbf{f(t, y)} =\\mathbf{f(t, C_{EDC}, C_{EC}, C_{HCl}, C_{Coke}, C_{CP}, C_{Di}, C_{C4H6Cl2}, C_{C6H6}, C_{C2H2}, C_{C11}, C_{C112}, C_{R1}, C_{R2}, C_{R3}, C_{R4}, C_{R5}, C_{R6}, C_{VCM}, T)}$\n"
   ]
  },
  {
   "cell_type": "markdown",
   "metadata": {},
   "source": [
    "\n",
    "\n",
    "\n",
    "\n",
    "$$\\mathbf{J}\n",
    "=\n",
    "\\frac{d \\mathbf{f}}{d \\mathbf{y}}\n",
    "=\n",
    "\\left[ \\frac{\\partial \\mathbf{f}}{\\partial y_1}\n",
    "\\cdots \\frac{\\partial \\mathbf{f}}{\\partial y_n} \\right] \n",
    "=\n",
    "\\begin{bmatrix}\n",
    "\\frac{\\partial f_1}{\\partial y_1} & \\cdots &\n",
    "\\frac{\\partial f_1}{\\partial y_n} \\\\\n",
    "\\vdots & \\ddots & \\vdots \\\\\n",
    "\\frac{\\partial f_m}{\\partial y_1} & \\cdots & \n",
    "\\frac{\\partial f_m}{\\partial y_n}\n",
    "\\end{bmatrix}$$\n"
   ]
  },
  {
   "cell_type": "markdown",
   "metadata": {},
   "source": [
    "\\left(\\begin{array}{ccccccccccccccccccc}- C_{R1} k_{2} e^{- Ea_{2} / R T} - C_{R2} k_{3} e^{- Ea_{3} / R T} - C_{R4} k_{4} e^{- Ea_{4} / R T} - C_{R5} k_{5} e^{- Ea_{5} / R T} - C_{R6} k_{6} e^{- Ea_{6} / R T} - k_{1} e^{- Ea_{1} / R T} & 0 & 0 & 0 & 0 & 0 & 0 & 0 & 0 & 0 & 0 & - C_{EDC} k_{2} e^{- Ea_{2} / R T} & - C_{EDC} k_{3} e^{- Ea_{3} / R T} & 0 & - C_{EDC} k_{4} e^{- Ea_{4} / R T} & - C_{EDC} k_{5} e^{- Ea_{5} / R T} & - C_{EDC} k_{6} e^{- Ea_{6} / R T} & 0 & - \\frac{C_{EDC} C_{R1} Ea_{2} k_{2} e^{- Ea_{2} / R T}}{R T^{2}} - \\frac{C_{EDC} C_{R2} Ea_{3} k_{3} e^{- Ea_{3} / R T}}{R T^{2}} - \\frac{C_{EDC} C_{R4} Ea_{4} k_{4} e^{- Ea_{4} / R T}}{R T^{2}} - \\frac{C_{EDC} C_{R5} Ea_{5} k_{5} e^{- Ea_{5} / R T}}{R T^{2}} - \\frac{C_{EDC} C_{R6} Ea_{6} k_{6} e^{- Ea_{6} / R T}}{R T^{2}} - \\frac{C_{EDC} Ea_{1} k_{1} e^{- Ea_{1} / R T}}{R T^{2}}\\\\C_{R2} k_{3} e^{- Ea_{3} / R T} & - C_{R1} k_{9} e^{- Ea_{9} / R T} & 0 & 0 & 0 & 0 & 0 & 0 & 0 & 0 & 0 & - C_{EC} k_{9} e^{- Ea_{9} / R T} & C_{EDC} k_{3} e^{- Ea_{3} / R T} + C_{VCM} k_{14} e^{- Ea_{14} / R T} & 0 & 0 & 0 & 0 & C_{R2} k_{14} e^{- Ea_{14} / R T} & - \\frac{C_{EC} C_{R1} Ea_{9} k_{9} e^{- Ea_{9} / R T}}{R T^{2}} + \\frac{C_{EDC} C_{R2} Ea_{3} k_{3} e^{- Ea_{3} / R T}}{R T^{2}} + \\frac{C_{R2} C_{VCM} Ea_{14} k_{14} e^{- Ea_{14} / R T}}{R T^{2}}\\\\C_{R1} k_{2} e^{- Ea_{2} / R T} & C_{R1} k_{9} e^{- Ea_{9} / R T} & 0 & 0 & 0 & 0 & 0 & 0 & 2 C_{R1}^{2} k_{21} e^{- Ea_{21} / R T} & C_{R1} k_{10} e^{- Ea_{10} / R T} & C_{R1} k_{11} e^{- Ea_{11} / R T} & C_{C11} k_{10} e^{- Ea_{10} / R T} + C_{C112} k_{11} e^{- Ea_{11} / R T} + 4 C_{C2H2} C_{R1} k_{21} e^{- Ea_{21} / R T} + C_{EC} k_{9} e^{- Ea_{9} / R T} + C_{EDC} k_{2} e^{- Ea_{2} / R T} + C_{R2} k_{7} e^{- Ea_{7} / R T} + C_{R3} k_{8} e^{- Ea_{8} / R T} + C_{VCM} k_{13} e^{- Ea_{13} / R T} & C_{R1} k_{7} e^{- Ea_{7} / R T} & C_{R1} k_{8} e^{- Ea_{8} / R T} & 0 & 0 & 0 & C_{R1} k_{13} e^{- Ea_{13} / R T} & \\frac{C_{C11} C_{R1} Ea_{10} k_{10} e^{- Ea_{10} / R T}}{R T^{2}} + \\frac{C_{C112} C_{R1} Ea_{11} k_{11} e^{- Ea_{11} / R T}}{R T^{2}} + \\frac{2 C_{C2H2} C_{R1}^{2} Ea_{21} k_{21} e^{- Ea_{21} / R T}}{R T^{2}} + \\frac{C_{EC} C_{R1} Ea_{9} k_{9} e^{- Ea_{9} / R T}}{R T^{2}} + \\frac{C_{EDC} C_{R1} Ea_{2} k_{2} e^{- Ea_{2} / R T}}{R T^{2}} + \\frac{C_{R1} C_{R2} Ea_{7} k_{7} e^{- Ea_{7} / R T}}{R T^{2}} + \\frac{C_{R1} C_{R3} Ea_{8} k_{8} e^{- Ea_{8} / R T}}{R T^{2}} + \\frac{C_{R1} C_{VCM} Ea_{13} k_{13} e^{- Ea_{13} / R T}}{R T^{2}}\\\\0 & 0 & 0 & 0 & 0 & 0 & 0 & 0 & 2 C_{R1}^{2} k_{21} e^{- Ea_{21} / R T} & 0 & 0 & 4 C_{C2H2} C_{R1} k_{21} e^{- Ea_{21} / R T} & 0 & 0 & 0 & 0 & 0 & 0 & \\frac{2 C_{C2H2} C_{R1}^{2} Ea_{21} k_{21} e^{- Ea_{21} / R T}}{R T^{2}}\\\\0 & 0 & 0 & 0 & 0 & 0 & 0 & 0 & 0 & 0 & 0 & 0 & 0 & 0 & 0 & C_{VCM} k_{16} e^{- Ea_{16} / R T} & 0 & C_{R5} k_{16} e^{- Ea_{16} / R T} & \\frac{C_{R5} C_{VCM} Ea_{16} k_{16} e^{- Ea_{16} / R T}}{R T^{2}}\\\\0 & 0 & 0 & 0 & 0 & - C_{R1} k_{19} e^{- Ea_{19} / R T} & 0 & 0 & 0 & 0 & 0 & - C_{Di} k_{19} e^{- Ea_{19} / R T} + C_{R3} k_{8} e^{- Ea_{8} / R T} & 0 & C_{R1} k_{8} e^{- Ea_{8} / R T} & 0 & 0 & k_{19} e^{- Ea_{19} / R T} & 0 & - \\frac{C_{Di} C_{R1} Ea_{19} k_{19} e^{- Ea_{19} / R T}}{R T^{2}} + \\frac{C_{R1} C_{R3} Ea_{8} k_{8} e^{- Ea_{8} / R T}}{R T^{2}} + \\frac{C_{R6} Ea_{19} k_{19} e^{- Ea_{19} / R T}}{R T^{2}}\\\\0 & 0 & 0 & 0 & 0 & 0 & 0 & 0 & 0 & 0 & 0 & 0 & 0 & 0 & C_{VCM} k_{15} e^{- Ea_{15} / R T} & 0 & 0 & C_{R4} k_{15} e^{- Ea_{15} / R T} & \\frac{C_{R4} C_{VCM} Ea_{15} k_{15} e^{- Ea_{15} / R T}}{R T^{2}}\\\\0 & 0 & 0 & 0 & 0 & 0 & 0 & 0 & 4 C_{C2H2} C_{R5} k_{20} e^{- Ea_{20} / R T} & 0 & 0 & 0 & 0 & 0 & 0 & 2 C_{C2H2}^{2} k_{20} e^{- Ea_{20} / R T} & 0 & 0 & \\frac{2 C_{C2H2}^{2} C_{R5} Ea_{20} k_{20} e^{- Ea_{20} / R T}}{R T^{2}}\\\\0 & 0 & 0 & 0 & 0 & 0 & 0 & 0 & - 4 C_{C2H2} C_{R5} k_{20} e^{- Ea_{20} / R T} - 2 C_{R1}^{2} k_{21} e^{- Ea_{21} / R T} - C_{R1} k_{18} e^{- Ea_{18} / R T} & 0 & 0 & - 4 C_{C2H2} C_{R1} k_{21} e^{- Ea_{21} / R T} - C_{C2H2} k_{18} e^{- Ea_{18} / R T} & 0 & 0 & 0 & - 2 C_{C2H2}^{2} k_{20} e^{- Ea_{20} / R T} - k_{18} e^{- Ea_{18} / R T} & 0 & 0 & - \\frac{2 C_{C2H2}^{2} C_{R5} Ea_{20} k_{20} e^{- Ea_{20} / R T}}{R T^{2}} - \\frac{2 C_{C2H2} C_{R1}^{2} Ea_{21} k_{21} e^{- Ea_{21} / R T}}{R T^{2}} - \\frac{C_{C2H2} C_{R1} Ea_{18} k_{18} e^{- Ea_{18} / R T}}{R T^{2}} - \\frac{C_{R5} Ea_{18} k_{18} e^{- Ea_{18} / R T}}{R T^{2}}\\\\C_{R4} k_{4} e^{- Ea_{4} / R T} & 0 & 0 & 0 & 0 & 0 & 0 & 0 & 0 & - C_{R1} k_{10} e^{- Ea_{10} / R T} & 0 & - C_{C11} k_{10} e^{- Ea_{10} / R T} & 0 & 0 & C_{EDC} k_{4} e^{- Ea_{4} / R T} & 0 & 0 & 0 & - \\frac{C_{C11} C_{R1} Ea_{10} k_{10} e^{- Ea_{10} / R T}}{R T^{2}} + \\frac{C_{EDC} C_{R4} Ea_{4} k_{4} e^{- Ea_{4} / R T}}{R T^{2}}\\\\C_{R5} k_{5} e^{- Ea_{5} / R T} & 0 & 0 & 0 & 0 & 0 & 0 & 0 & 0 & 0 & - C_{R1} k_{11} e^{- Ea_{11} / R T} & - C_{C112} k_{11} e^{- Ea_{11} / R T} & 0 & 0 & 0 & C_{EDC} k_{5} e^{- Ea_{5} / R T} & 0 & 0 & - \\frac{C_{C112} C_{R1} Ea_{11} k_{11} e^{- Ea_{11} / R T}}{R T^{2}} + \\frac{C_{EDC} C_{R5} Ea_{5} k_{5} e^{- Ea_{5} / R T}}{R T^{2}}\\\\- C_{R1} k_{2} e^{- Ea_{2} / R T} + k_{1} e^{- Ea_{1} / R T} & - C_{R1} k_{9} e^{- Ea_{9} / R T} & 0 & 0 & 0 & - C_{R1} k_{19} e^{- Ea_{19} / R T} & 0 & 0 & 4 C_{C2H2} C_{R5} k_{20} e^{- Ea_{20} / R T} - 2 C_{R1}^{2} k_{21} e^{- Ea_{21} / R T} - C_{R1} k_{18} e^{- Ea_{18} / R T} & - C_{R1} k_{10} e^{- Ea_{10} / R T} & - C_{R1} k_{11} e^{- Ea_{11} / R T} & - C_{C11} k_{10} e^{- Ea_{10} / R T} - C_{C112} k_{11} e^{- Ea_{11} / R T} - 4 C_{C2H2} C_{R1} k_{21} e^{- Ea_{21} / R T} - C_{C2H2} k_{18} e^{- Ea_{18} / R T} - C_{Di} k_{19} e^{- Ea_{19} / R T} - C_{EC} k_{9} e^{- Ea_{9} / R T} - C_{EDC} k_{2} e^{- Ea_{2} / R T} - C_{R2} k_{7} e^{- Ea_{7} / R T} - C_{R3} k_{8} e^{- Ea_{8} / R T} - C_{VCM} k_{12} e^{- Ea_{12} / R T} - C_{VCM} k_{13} e^{- Ea_{13} / R T} - C_{VCM} k_{17} e^{- Ea_{17} / R T} & - C_{R1} k_{7} e^{- Ea_{7} / R T} & - C_{R1} k_{8} e^{- Ea_{8} / R T} + k_{17} e^{- Ea_{17} / R T} & C_{VCM} k_{15} e^{- Ea_{15} / R T} & 2 C_{C2H2}^{2} k_{20} e^{- Ea_{20} / R T} + C_{VCM} k_{16} e^{- Ea_{16} / R T} + k_{18} e^{- Ea_{18} / R T} & k_{19} e^{- Ea_{19} / R T} & - C_{R1} k_{12} e^{- Ea_{12} / R T} - C_{R1} k_{13} e^{- Ea_{13} / R T} - C_{R1} k_{17} e^{- Ea_{17} / R T} + C_{R4} k_{15} e^{- Ea_{15} / R T} + C_{R5} k_{16} e^{- Ea_{16} / R T} & - \\frac{C_{C11} C_{R1} Ea_{10} k_{10} e^{- Ea_{10} / R T}}{R T^{2}} - \\frac{C_{C112} C_{R1} Ea_{11} k_{11} e^{- Ea_{11} / R T}}{R T^{2}} + \\frac{2 C_{C2H2}^{2} C_{R5} Ea_{20} k_{20} e^{- Ea_{20} / R T}}{R T^{2}} - \\frac{2 C_{C2H2} C_{R1}^{2} Ea_{21} k_{21} e^{- Ea_{21} / R T}}{R T^{2}} - \\frac{C_{C2H2} C_{R1} Ea_{18} k_{18} e^{- Ea_{18} / R T}}{R T^{2}} - \\frac{C_{Di} C_{R1} Ea_{19} k_{19} e^{- Ea_{19} / R T}}{R T^{2}} - \\frac{C_{EC} C_{R1} Ea_{9} k_{9} e^{- Ea_{9} / R T}}{R T^{2}} - \\frac{C_{EDC} C_{R1} Ea_{2} k_{2} e^{- Ea_{2} / R T}}{R T^{2}} + \\frac{C_{EDC} Ea_{1} k_{1} e^{- Ea_{1} / R T}}{R T^{2}} - \\frac{C_{R1} C_{R2} Ea_{7} k_{7} e^{- Ea_{7} / R T}}{R T^{2}} - \\frac{C_{R1} C_{R3} Ea_{8} k_{8} e^{- Ea_{8} / R T}}{R T^{2}} - \\frac{C_{R1} C_{VCM} Ea_{12} k_{12} e^{- Ea_{12} / R T}}{R T^{2}} - \\frac{C_{R1} C_{VCM} Ea_{13} k_{13} e^{- Ea_{13} / R T}}{R T^{2}} - \\frac{C_{R1} C_{VCM} Ea_{17} k_{17} e^{- Ea_{17} / R T}}{R T^{2}} + \\frac{C_{R3} Ea_{17} k_{17} e^{- Ea_{17} / R T}}{R T^{2}} + \\frac{C_{R4} C_{VCM} Ea_{15} k_{15} e^{- Ea_{15} / R T}}{R T^{2}} + \\frac{C_{R5} C_{VCM} Ea_{16} k_{16} e^{- Ea_{16} / R T}}{R T^{2}} + \\frac{C_{R5} Ea_{18} k_{18} e^{- Ea_{18} / R T}}{R T^{2}} + \\frac{C_{R6} Ea_{19} k_{19} e^{- Ea_{19} / R T}}{R T^{2}}\\\\- C_{R2} k_{3} e^{- Ea_{3} / R T} + k_{1} e^{- Ea_{1} / R T} & C_{R1} k_{9} e^{- Ea_{9} / R T} & 0 & 0 & 0 & 0 & 0 & 0 & 0 & 0 & 0 & C_{EC} k_{9} e^{- Ea_{9} / R T} - C_{R2} k_{7} e^{- Ea_{7} / R T} & - C_{EDC} k_{3} e^{- Ea_{3} / R T} - C_{R1} k_{7} e^{- Ea_{7} / R T} - C_{VCM} k_{14} e^{- Ea_{14} / R T} & 0 & 0 & 0 & 0 & - C_{R2} k_{14} e^{- Ea_{14} / R T} & \\frac{C_{EC} C_{R1} Ea_{9} k_{9} e^{- Ea_{9} / R T}}{R T^{2}} - \\frac{C_{EDC} C_{R2} Ea_{3} k_{3} e^{- Ea_{3} / R T}}{R T^{2}} + \\frac{C_{EDC} Ea_{1} k_{1} e^{- Ea_{1} / R T}}{R T^{2}} - \\frac{C_{R1} C_{R2} Ea_{7} k_{7} e^{- Ea_{7} / R T}}{R T^{2}} - \\frac{C_{R2} C_{VCM} Ea_{14} k_{14} e^{- Ea_{14} / R T}}{R T^{2}}\\\\C_{R1} k_{2} e^{- Ea_{2} / R T} + C_{R2} k_{3} e^{- Ea_{3} / R T} + C_{R4} k_{4} e^{- Ea_{4} / R T} + C_{R5} k_{5} e^{- Ea_{5} / R T} + C_{R6} k_{6} e^{- Ea_{6} / R T} & 0 & 0 & 0 & 0 & 0 & 0 & 0 & 0 & 0 & 0 & C_{EDC} k_{2} e^{- Ea_{2} / R T} - C_{R3} k_{8} e^{- Ea_{8} / R T} + C_{VCM} k_{17} e^{- Ea_{17} / R T} & C_{EDC} k_{3} e^{- Ea_{3} / R T} & - C_{R1} k_{8} e^{- Ea_{8} / R T} - k_{17} e^{- Ea_{17} / R T} & C_{EDC} k_{4} e^{- Ea_{4} / R T} & C_{EDC} k_{5} e^{- Ea_{5} / R T} & C_{EDC} k_{6} e^{- Ea_{6} / R T} & C_{R1} k_{17} e^{- Ea_{17} / R T} & \\frac{C_{EDC} C_{R1} Ea_{2} k_{2} e^{- Ea_{2} / R T}}{R T^{2}} + \\frac{C_{EDC} C_{R2} Ea_{3} k_{3} e^{- Ea_{3} / R T}}{R T^{2}} + \\frac{C_{EDC} C_{R4} Ea_{4} k_{4} e^{- Ea_{4} / R T}}{R T^{2}} + \\frac{C_{EDC} C_{R5} Ea_{5} k_{5} e^{- Ea_{5} / R T}}{R T^{2}} + \\frac{C_{EDC} C_{R6} Ea_{6} k_{6} e^{- Ea_{6} / R T}}{R T^{2}} - \\frac{C_{R1} C_{R3} Ea_{8} k_{8} e^{- Ea_{8} / R T}}{R T^{2}} + \\frac{C_{R1} C_{VCM} Ea_{17} k_{17} e^{- Ea_{17} / R T}}{R T^{2}} - \\frac{C_{R3} Ea_{17} k_{17} e^{- Ea_{17} / R T}}{R T^{2}}\\\\- C_{R4} k_{4} e^{- Ea_{4} / R T} & 0 & 0 & 0 & 0 & 0 & 0 & 0 & 0 & C_{R1} k_{10} e^{- Ea_{10} / R T} & 0 & C_{C11} k_{10} e^{- Ea_{10} / R T} + C_{VCM} k_{12} e^{- Ea_{12} / R T} & 0 & 0 & - C_{EDC} k_{4} e^{- Ea_{4} / R T} - C_{VCM} k_{15} e^{- Ea_{15} / R T} & 0 & 0 & C_{R1} k_{12} e^{- Ea_{12} / R T} - C_{R4} k_{15} e^{- Ea_{15} / R T} & \\frac{C_{C11} C_{R1} Ea_{10} k_{10} e^{- Ea_{10} / R T}}{R T^{2}} - \\frac{C_{EDC} C_{R4} Ea_{4} k_{4} e^{- Ea_{4} / R T}}{R T^{2}} + \\frac{C_{R1} C_{VCM} Ea_{12} k_{12} e^{- Ea_{12} / R T}}{R T^{2}} - \\frac{C_{R4} C_{VCM} Ea_{15} k_{15} e^{- Ea_{15} / R T}}{R T^{2}}\\\\C_{R5} k_{5} e^{- Ea_{5} / R T} & 0 & 0 & 0 & 0 & 0 & 0 & 0 & 4 C_{C2H2} C_{R5} k_{20} e^{- Ea_{20} / R T} + C_{R1} k_{18} e^{- Ea_{18} / R T} & 0 & 0 & C_{C2H2} k_{18} e^{- Ea_{18} / R T} - C_{VCM} k_{13} e^{- Ea_{13} / R T} & - C_{VCM} k_{14} e^{- Ea_{14} / R T} & 0 & 0 & 2 C_{C2H2}^{2} k_{20} e^{- Ea_{20} / R T} + C_{EDC} k_{5} e^{- Ea_{5} / R T} + C_{VCM} k_{16} e^{- Ea_{16} / R T} - k_{18} e^{- Ea_{18} / R T} & 0 & - C_{R1} k_{13} e^{- Ea_{13} / R T} - C_{R2} k_{14} e^{- Ea_{14} / R T} + C_{R5} k_{16} e^{- Ea_{16} / R T} & \\frac{2 C_{C2H2}^{2} C_{R5} Ea_{20} k_{20} e^{- Ea_{20} / R T}}{R T^{2}} + \\frac{C_{C2H2} C_{R1} Ea_{18} k_{18} e^{- Ea_{18} / R T}}{R T^{2}} + \\frac{C_{EDC} C_{R5} Ea_{5} k_{5} e^{- Ea_{5} / R T}}{R T^{2}} - \\frac{C_{R1} C_{VCM} Ea_{13} k_{13} e^{- Ea_{13} / R T}}{R T^{2}} - \\frac{C_{R2} C_{VCM} Ea_{14} k_{14} e^{- Ea_{14} / R T}}{R T^{2}} + \\frac{C_{R5} C_{VCM} Ea_{16} k_{16} e^{- Ea_{16} / R T}}{R T^{2}} - \\frac{C_{R5} Ea_{18} k_{18} e^{- Ea_{18} / R T}}{R T^{2}}\\\\- C_{R6} k_{6} e^{- Ea_{6} / R T} & 0 & 0 & 0 & 0 & C_{R1} k_{19} e^{- Ea_{19} / R T} & 0 & 0 & 0 & 0 & C_{R1} k_{11} e^{- Ea_{11} / R T} & C_{C112} k_{11} e^{- Ea_{11} / R T} + C_{Di} k_{19} e^{- Ea_{19} / R T} & 0 & 0 & 0 & 0 & - C_{EDC} k_{6} e^{- Ea_{6} / R T} - k_{19} e^{- Ea_{19} / R T} & 0 & \\frac{C_{C112} C_{R1} Ea_{11} k_{11} e^{- Ea_{11} / R T}}{R T^{2}} + \\frac{C_{Di} C_{R1} Ea_{19} k_{19} e^{- Ea_{19} / R T}}{R T^{2}} - \\frac{C_{EDC} C_{R6} Ea_{6} k_{6} e^{- Ea_{6} / R T}}{R T^{2}} - \\frac{C_{R6} Ea_{19} k_{19} e^{- Ea_{19} / R T}}{R T^{2}}\\\\C_{R5} k_{5} e^{- Ea_{5} / R T} & 0 & 0 & 0 & 0 & 0 & 0 & 0 & 0 & 0 & 0 & C_{R2} k_{7} e^{- Ea_{7} / R T} - C_{VCM} k_{12} e^{- Ea_{12} / R T} - C_{VCM} k_{13} e^{- Ea_{13} / R T} - C_{VCM} k_{17} e^{- Ea_{17} / R T} & C_{R1} k_{7} e^{- Ea_{7} / R T} - C_{VCM} k_{14} e^{- Ea_{14} / R T} & k_{17} e^{- Ea_{17} / R T} & - C_{VCM} k_{15} e^{- Ea_{15} / R T} & C_{EDC} k_{5} e^{- Ea_{5} / R T} - C_{VCM} k_{16} e^{- Ea_{16} / R T} & 0 & - C_{R1} k_{12} e^{- Ea_{12} / R T} - C_{R1} k_{13} e^{- Ea_{13} / R T} - C_{R1} k_{17} e^{- Ea_{17} / R T} - C_{R2} k_{14} e^{- Ea_{14} / R T} - C_{R4} k_{15} e^{- Ea_{15} / R T} - C_{R5} k_{16} e^{- Ea_{16} / R T} & \\frac{C_{EDC} C_{R5} Ea_{5} k_{5} e^{- Ea_{5} / R T}}{R T^{2}} + \\frac{C_{R1} C_{R2} Ea_{7} k_{7} e^{- Ea_{7} / R T}}{R T^{2}} - \\frac{C_{R1} C_{VCM} Ea_{12} k_{12} e^{- Ea_{12} / R T}}{R T^{2}} - \\frac{C_{R1} C_{VCM} Ea_{13} k_{13} e^{- Ea_{13} / R T}}{R T^{2}} - \\frac{C_{R1} C_{VCM} Ea_{17} k_{17} e^{- Ea_{17} / R T}}{R T^{2}} - \\frac{C_{R2} C_{VCM} Ea_{14} k_{14} e^{- Ea_{14} / R T}}{R T^{2}} + \\frac{C_{R3} Ea_{17} k_{17} e^{- Ea_{17} / R T}}{R T^{2}} - \\frac{C_{R4} C_{VCM} Ea_{15} k_{15} e^{- Ea_{15} / R T}}{R T^{2}} - \\frac{C_{R5} C_{VCM} Ea_{16} k_{16} e^{- Ea_{16} / R T}}{R T^{2}}\\end{array}\\right)\n"
   ]
  }
 ],
 "metadata": {
  "kernelspec": {
   "display_name": "Python 3",
   "language": "python",
   "name": "python3"
  },
  "language_info": {
   "codemirror_mode": {
    "name": "ipython",
    "version": 3
   },
   "file_extension": ".py",
   "mimetype": "text/x-python",
   "name": "python",
   "nbconvert_exporter": "python",
   "pygments_lexer": "ipython3",
   "version": "3.8.5"
  }
 },
 "nbformat": 4,
 "nbformat_minor": 4
}
